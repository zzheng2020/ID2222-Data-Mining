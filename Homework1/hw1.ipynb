{
 "cells": [
  {
   "cell_type": "code",
   "execution_count": 1,
   "metadata": {},
   "outputs": [],
   "source": [
    "\"\"\"\n",
    "Authors: Chengyang Huang, Ziheng Zhang\n",
    "Course:  ID2222 Data Mining\n",
    "\"\"\"\n",
    "import numpy as np\n",
    "import compare_sets as cs\n",
    "import shingling as sl"
   ]
  },
  {
   "cell_type": "code",
   "execution_count": 2,
   "metadata": {},
   "outputs": [],
   "source": [
    "stra = \"Russian Prime Minister Viktor Chernomyrdin on Thursday proposed a three-phase solution to end the three-month-old conflict in Chechnya, starting with the declaration of demilitarised zones. Derek Jeter hit a go-ahead homer and finished with four hits, Alex Rodriguez added a home run and the New York Yankees beat the slumping Mets 11-8 Saturday. India has added almost 100 million people to its list of the poor, a move that will give a total of 372 million access to state welfare schemes and subsidies, a government official said Monday. Maybe a job applicant claims that he earned a bachelor's degree when he was actually one semester shy of graduation. Or he boasts of winning an award from a trade group that doesn't exist. Police on Wednesday handcuffed and led away three children and seven adults who tried to take water into the hospice where brain-damaged Terri Schiavo is being cared for. He was an important political figure, arrested for engaging in lewd conduct in a public men's Married, with children, he told no one. Instead he pleaded guilty without even hiring a lawyer, hoping the problem would quietly disappear. French judges investigating a scandal involving cash payments for airline tickets moved a step closer to President Jacques Chirac on Wednesday, questioning his daughter in the case that dates back to Chirac's time as Paris mayor. A book based on a cancer patient's diary, which has recorded the emotions of his last days on earth, is being printed and will hit the shelves soon, said Monday's China Daily.\"\n",
    "strb = \"Russian Prime Minister Viktor Chernomyrdin on Thursday proposed a three-phase solution to end the three-month-old conflict in Chechnya, starting with the declaration of demilitarised zones. Derek Jeter hit a go-ahead homer and finished with four hits, Alex Rodriguez added a home run and the New York Yankees beat the slumping Mets 11-8 Saturday. India has added almost 100 million people to its list of the poor, a move that will give a total of 372 million access to state welfare schemes and subsidies, a government official said Monday. Maybe a job applicant claims that he earned a bachelor's degree when he was actually one semester shy of graduation. Or he boasts of winning an award from a trade group that doesn't exist. Police on Wednesday handcuffed and led away three children and seven adults who tried to take water into the hospice where brain-damaged Terri Schiavo is being cared for. He was an important political figure, arrested for engaging in lewd conduct in a public men's room. Married, with children, he told no one. Instead he pleaded guilty without even hiring a lawyer, hoping the problem would quietly disappear. French judges investigating a scandal involving cash payments for airline tickets moved a step closer to President Jacques Chirac on Wednesday, questioning his daughter in the case that dates back to Chirac's time as Paris mayor. A book based on a cancer patient's diary, which has recorded the emotions of his last days on earth, is being printed and will hit the shelves soon, said Monday's China Daily.\"\n",
    "strc = \"South Africa's monetary authorities will follow a restrictive monetary policy in 1995, the governor of the central Reserve Bank, Chris Stals, told parliament Friday. Belgian state broadcaster RTBF said early predictions show French President Nicolas Sarkozy's conservative party will win Sunday's runoff elections for parliament. Airspace in northern Italy will be closed until Tuesday at 0600 GMT due to ash from a volcano eruption in Iceland, said Italy's civil aviation authority on Monday, revising a previous statement. Lance Berkman finally got rid of the long, unkempt locks that brought him so much grief and unwanted attention at the start of the season. But his power remained perfectly intact against the Reds. The battle between the two Ambani brothers who own India's largest private sector conglomerate, the Reliance group, is on the brink of settlement, reports said Thursday. Former Sen. Fred Thompson of Tennessee will grab most of the headlines this week as he enters the race for the White House, but Mitt Romney likes where he stands in the race for the Republican nomination. The Associated Press reported erroneously July 10 the amount that Sen. John McCain wanted stripped from security preparations for the 2002 Winter Olympics and given to the military. His amendment, which failed, would have shifted $30 million, not $60 million. China's special economic zones hosted a grand gathering to mark the 20th anniversary of their founding, Tuesday in Shenzhen City, one of the zones in south China's Guangdong Province.\""
   ]
  },
  {
   "cell_type": "code",
   "execution_count": 3,
   "metadata": {},
   "outputs": [],
   "source": [
    "my_shingling = sl.Shingling()\n",
    "stra_shinglingSet = my_shingling.shingling(docs=stra)\n",
    "strb_shinglingSet = my_shingling.shingling(docs=strb)\n",
    "strc_shinglingSet = my_shingling.shingling(docs=strc)"
   ]
  },
  {
   "cell_type": "code",
   "execution_count": 6,
   "metadata": {},
   "outputs": [
    {
     "data": {
      "text/plain": "(0.9869451697127938, 0.0023171135385633896)"
     },
     "execution_count": 6,
     "metadata": {},
     "output_type": "execute_result"
    }
   ],
   "source": [
    "compareSets = cs.CompareSets()\n",
    "shinglingSetA = set(stra_shinglingSet)\n",
    "shinglingSetB = set(strb_shinglingSet)\n",
    "shinglingSetC = set(strc_shinglingSet)\n",
    "jaccard_similarity_ab = compareSets.compare(set_a=shinglingSetA, set_b=shinglingSetB)\n",
    "jaccard_similarity_ac = compareSets.compare(set_a=shinglingSetA, set_b=shinglingSetC)\n",
    "jaccard_similarity_ab, jaccard_similarity_ac"
   ]
  },
  {
   "cell_type": "code",
   "execution_count": null,
   "metadata": {},
   "outputs": [],
   "source": []
  }
 ],
 "metadata": {
  "kernelspec": {
   "display_name": "Python 3 (ipykernel)",
   "language": "python",
   "name": "python3"
  },
  "language_info": {
   "codemirror_mode": {
    "name": "ipython",
    "version": 3
   },
   "file_extension": ".py",
   "mimetype": "text/x-python",
   "name": "python",
   "nbconvert_exporter": "python",
   "pygments_lexer": "ipython3",
   "version": "3.10.4"
  },
  "vscode": {
   "interpreter": {
    "hash": "64e73f2d0f2ca29cdc16c9f501e4412c9496f02e80bdb0ba1471d637cf7015bd"
   }
  }
 },
 "nbformat": 4,
 "nbformat_minor": 2
}