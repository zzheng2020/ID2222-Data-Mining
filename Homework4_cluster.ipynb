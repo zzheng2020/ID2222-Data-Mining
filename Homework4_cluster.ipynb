{
  "nbformat": 4,
  "nbformat_minor": 0,
  "metadata": {
    "colab": {
      "provenance": [],
      "authorship_tag": "ABX9TyP+QHotjd5ooT/SVCVvyBJz",
      "include_colab_link": true
    },
    "kernelspec": {
      "name": "python3",
      "display_name": "Python 3"
    },
    "language_info": {
      "name": "python"
    }
  },
  "cells": [
    {
      "cell_type": "markdown",
      "metadata": {
        "id": "view-in-github",
        "colab_type": "text"
      },
      "source": [
        "<a href=\"https://colab.research.google.com/github/zzheng2020/ID2222-Data-Mining/blob/main/Homework4_cluster.ipynb\" target=\"_parent\"><img src=\"https://colab.research.google.com/assets/colab-badge.svg\" alt=\"Open In Colab\"/></a>"
      ]
    },
    {
      "cell_type": "code",
      "execution_count": 3,
      "metadata": {
        "id": "wBgP2Oi8nBT7"
      },
      "outputs": [],
      "source": [
        "data_file = 'example1.dat'"
      ]
    },
    {
      "cell_type": "code",
      "source": [
        "import numpy as np\n",
        "import numpy as np\n",
        "from sklearn.cluster import KMeans\n",
        "\n",
        "def spectral_cluster(X, n_clusters=3, sigma=1): \n",
        "    '''\n",
        "    n_cluster : cluster into n_cluster subset\n",
        "    sigma: a parameter of the affinity matrix\n",
        "    \n",
        "    '''\n",
        "    def affinity_matrix(X, sigma=1):\n",
        "        N = len(X)\n",
        "        A = np.zeros((N, N))\n",
        "        for i in range(N):\n",
        "            for j in range(i+1, N):\n",
        "                A[i][j] = np.exp(-np.linalg.norm(X[i] - X[j])**2 / (2 * sigma ** 2))\n",
        "                A[j][i] = A[i][j]\n",
        "        return A\n",
        "    \n",
        "    A = affinity_matrix(X, sigma)\n",
        "    \n",
        "    def laplacianMatrix(A):\n",
        "        dm = np.sum(A, axis=1)\n",
        "        D = np.diag(dm)\n",
        "        sqrtD = np.diag(1.0 / (dm ** 0.5))\n",
        "        return np.dot(np.dot(sqrtD, A), sqrtD)\n",
        "    \n",
        "    L = laplacianMatrix(A)\n",
        "    \n",
        "    def largest_n_eigvec(L, n_clusters):\n",
        "        eigval, eigvec = np.linalg.eig(L)\n",
        "        index = np.argsort(np.sum(abs(eigvec), 0))[-n_clusters:]  \n",
        "        # n_clusters largest eigenvectors' indexes.\n",
        "        return eigvec[:, index] \n",
        "        \n",
        "    newX = largest_n_eigvec(L, n_clusters)\n",
        "    \n",
        "    def renormalization(newX):\n",
        "        Y = newX.copy()\n",
        "        for i in range(len(newX)):\n",
        "            norm = 0\n",
        "            for j in newX[i]:\n",
        "                norm += (newX[i] ** 2)\n",
        "            norm = norm ** 0.5\n",
        "            Y[i] /= norm\n",
        "        return Y\n",
        "    \n",
        "    Y = renormalization(newX)\n",
        "    \n",
        "    kmeans = KMeans(n_clusters=n_clusters).fit(Y)\n",
        "    return kmeans.labels_"
      ],
      "metadata": {
        "id": "9KO6Mm-loLiz"
      },
      "execution_count": 4,
      "outputs": []
    },
    {
      "cell_type": "code",
      "source": [
        "graph = []"
      ],
      "metadata": {
        "id": "9zpLlk2XoSyM"
      },
      "execution_count": 5,
      "outputs": []
    },
    {
      "cell_type": "code",
      "source": [
        "with open(data_file) as f:\n",
        "    for line in f:\n",
        "        nodes = line.rstrip('\\n')\n",
        "        u, v = nodes.split(',')\n",
        "        graph.append([u, v])"
      ],
      "metadata": {
        "id": "mhs6veWroMmA"
      },
      "execution_count": 6,
      "outputs": []
    },
    {
      "cell_type": "code",
      "source": [
        "X = np.array(graph, dtype=int)\n",
        "X"
      ],
      "metadata": {
        "colab": {
          "base_uri": "https://localhost:8080/"
        },
        "id": "CiEHbrnLoT7D",
        "outputId": "5c79e6cb-1ea1-4308-8495-bffd1d5e115e"
      },
      "execution_count": 7,
      "outputs": [
        {
          "output_type": "execute_result",
          "data": {
            "text/plain": [
              "array([[  1,   2],\n",
              "       [  1,   3],\n",
              "       [  1,   4],\n",
              "       ...,\n",
              "       [216, 235],\n",
              "       [213, 235],\n",
              "       [241, 235]])"
            ]
          },
          "metadata": {},
          "execution_count": 7
        }
      ]
    },
    {
      "cell_type": "code",
      "source": [
        "y = spectral_cluster(X, n_clusters=6, sigma=1)"
      ],
      "metadata": {
        "id": "WbdU_obqoWRY"
      },
      "execution_count": 12,
      "outputs": []
    },
    {
      "cell_type": "code",
      "source": [
        "import matplotlib.pyplot as plt\n",
        "plt.scatter(X[:, 0], X[:, 1], c=y, cmap=plt.cm.Set1)"
      ],
      "metadata": {
        "colab": {
          "base_uri": "https://localhost:8080/",
          "height": 285
        },
        "id": "gGhfPm8OoZLu",
        "outputId": "0f7d257a-190d-48fe-a84b-e9dc874e33d8"
      },
      "execution_count": 13,
      "outputs": [
        {
          "output_type": "execute_result",
          "data": {
            "text/plain": [
              "<matplotlib.collections.PathCollection at 0x7fef310b7f10>"
            ]
          },
          "metadata": {},
          "execution_count": 13
        },
        {
          "output_type": "display_data",
          "data": {
            "text/plain": [
              "<Figure size 432x288 with 1 Axes>"
            ],
            "image/png": "[encoded data removed]"
          },
          "metadata": {
            "needs_background": "light"
          }
        }
      ]
    },
    {
      "cell_type": "code",
      "source": [],
      "metadata": {
        "id": "_hycq3IDok0H"
      },
      "execution_count": null,
      "outputs": []
    }
  ]
}